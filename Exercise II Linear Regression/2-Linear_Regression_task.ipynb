{
 "cells": [
  {
   "cell_type": "markdown",
   "metadata": {
    "collapsed": false,
    "jupyter": {
     "outputs_hidden": false
    },
    "pycharm": {
     "name": "#%% md\n"
    }
   },
   "source": [
    "# Exercise 2: Linear Regression\n",
    "----------\n",
    "In this exercise, you will implement a first machine learning model and learn about the *pandas* and *scikit-learn* libraries."
   ]
  },
  {
   "cell_type": "markdown",
   "metadata": {
    "collapsed": false,
    "jupyter": {
     "outputs_hidden": false
    },
    "pycharm": {
     "name": "#%% md\n"
    }
   },
   "source": [
    "## Dataset\n",
    "We will use a dataset originally published here: [UCI Machine Learning Repository](https://archive.ics.uci.edu/dataset/9/auto+mpg)\n",
    "\n",
    "Download the dataset from Moodle. The dataset consists of two files:\n",
    "- auto-mpg.data: contains the data\n",
    "- auto-mpg.names: contains information about the dataset\n",
    "\n",
    "The dataset contains data from 398 different car models. In addition to the car name, it includes information about:\n",
    "- fuel consumption in miles per gallon\n",
    "- cylinders\n",
    "- engine displacement\n",
    "- horsepower\n",
    "- weight\n",
    "- acceleration\n",
    "- model year\n",
    "- origin\n",
    "\n",
    "The goal of this exercise is to predict the fuel consumption of cars using the other available attributes as input to a linear regression algorithm.\n",
    "\n",
    "## Importing Data with *pandas*\n",
    "\n",
    "The *pandas* library is a very important library often used in data science to handle datasets. It includes functions for analyzing, exploring and manipulating data.\n",
    "You can find information about *pandas* on their website: [https://pandas.pydata.org/docs/index.html](https://pandas.pydata.org/docs/index.html)\n",
    "\n",
    "When working with datasets in *pandas*, the data is loaded into a pandas DataFrame, which is a two-dimensional structure similar to a table. In general the columns of the DataFrame refer to the different features of the data set, while the rows represent the instances of the data. *Pandas* provides many ways to manipulate and analyze the data in the DataFrame, e.g. for calculating statistical properties or cleaning the data.\n"
   ]
  },
  {
   "cell_type": "code",
   "execution_count": 8,
   "metadata": {
    "collapsed": false,
    "jupyter": {
     "outputs_hidden": false
    },
    "pycharm": {
     "name": "#%%\n"
    }
   },
   "outputs": [
    {
     "name": "stdout",
     "output_type": "stream",
     "text": [
      "   Height  Weight     Name\n",
      "0     180      80     Jack\n",
      "1     165      56     John\n",
      "2     172     105   Oliver\n",
      "3     201     102   George\n",
      "4     177      68  William\n"
     ]
    }
   ],
   "source": [
    "import pandas as pd\n",
    "\n",
    "data = {\n",
    "    \"Height\": [180, 165, 172, 201, 177],\n",
    "    \"Weight\": [80, 56, 105, 102, 68],\n",
    "    \"Name\": ['Jack', 'John', 'Oliver', 'George', 'William']\n",
    "}\n",
    "\n",
    "# load the data into a data frame\n",
    "dataframe = pd.DataFrame(data)\n",
    "\n",
    "print(dataframe)"
   ]
  },
  {
   "cell_type": "code",
   "execution_count": 10,
   "metadata": {
    "collapsed": false,
    "jupyter": {
     "outputs_hidden": false
    },
    "pycharm": {
     "name": "#%%\n"
    }
   },
   "outputs": [
    {
     "name": "stdout",
     "output_type": "stream",
     "text": [
      "<class 'pandas.core.frame.DataFrame'>\n",
      "RangeIndex: 5 entries, 0 to 4\n",
      "Data columns (total 3 columns):\n",
      " #   Column  Non-Null Count  Dtype \n",
      "---  ------  --------------  ----- \n",
      " 0   Height  5 non-null      int64 \n",
      " 1   Weight  5 non-null      int64 \n",
      " 2   Name    5 non-null      object\n",
      "dtypes: int64(2), object(1)\n",
      "memory usage: 252.0+ bytes\n"
     ]
    }
   ],
   "source": [
    "# the info() function gives you a first overview of the data like the number of rows and columns and the data types.\n",
    "dataframe.info()"
   ]
  },
  {
   "cell_type": "code",
   "execution_count": 8,
   "metadata": {
    "collapsed": false,
    "jupyter": {
     "outputs_hidden": false
    },
    "pycharm": {
     "name": "#%%\n"
    }
   },
   "outputs": [
    {
     "name": "stdout",
     "output_type": "stream",
     "text": [
      "0    180\n",
      "1    165\n",
      "2    172\n",
      "3    201\n",
      "4    177\n",
      "Name: Height, dtype: int64\n",
      "<class 'pandas.core.series.Series'>\n"
     ]
    }
   ],
   "source": [
    "# Select a column of the dataframe\n",
    "print(dataframe['Height'])\n",
    "# The result of the selection is a Pandas Series, which is a one-dimensional array\n",
    "print(type(dataframe['Height']))"
   ]
  },
  {
   "cell_type": "code",
   "execution_count": 9,
   "metadata": {
    "collapsed": false,
    "jupyter": {
     "outputs_hidden": false
    },
    "pycharm": {
     "name": "#%%\n"
    }
   },
   "outputs": [
    {
     "name": "stdout",
     "output_type": "stream",
     "text": [
      "   Weight    Name\n",
      "0      80    Jack\n",
      "1      56    John\n",
      "2     105  Oliver\n"
     ]
    }
   ],
   "source": [
    "# Select rows and columns of the dataframe using loc\n",
    "# input to loc are the labels of the data\n",
    "print(dataframe.loc[0:2,['Weight', 'Name']])"
   ]
  },
  {
   "cell_type": "code",
   "execution_count": 10,
   "metadata": {
    "collapsed": false,
    "jupyter": {
     "outputs_hidden": false
    },
    "pycharm": {
     "name": "#%%\n"
    }
   },
   "outputs": [
    {
     "name": "stdout",
     "output_type": "stream",
     "text": [
      "   Weight    Name\n",
      "0      80    Jack\n",
      "1      56    John\n",
      "2     105  Oliver\n"
     ]
    }
   ],
   "source": [
    "# select a row of the dataframe using iloc\n",
    "# iloc uses integer-based indexing\n",
    "print(dataframe.iloc[0:3,1:3])\n",
    "# this gives the same output as the code block above"
   ]
  },
  {
   "cell_type": "markdown",
   "metadata": {
    "collapsed": false,
    "jupyter": {
     "outputs_hidden": false
    },
    "pycharm": {
     "name": "#%% md\n"
    }
   },
   "source": [
    "------\n",
    "\n",
    "## Task 1: Load data\n",
    "Load the car dataset for this exercise using the read_csv function from *pandas* and take a first look at the data to make sure it loaded properly."
   ]
  },
  {
   "cell_type": "code",
   "execution_count": 8,
   "metadata": {
    "collapsed": false,
    "jupyter": {
     "outputs_hidden": false
    },
    "pycharm": {
     "name": "#%%\n"
    }
   },
   "outputs": [
    {
     "data": {
      "text/html": [
       "<div>\n",
       "<style scoped>\n",
       "    .dataframe tbody tr th:only-of-type {\n",
       "        vertical-align: middle;\n",
       "    }\n",
       "\n",
       "    .dataframe tbody tr th {\n",
       "        vertical-align: top;\n",
       "    }\n",
       "\n",
       "    .dataframe thead th {\n",
       "        text-align: right;\n",
       "    }\n",
       "</style>\n",
       "<table border=\"1\" class=\"dataframe\">\n",
       "  <thead>\n",
       "    <tr style=\"text-align: right;\">\n",
       "      <th></th>\n",
       "      <th>mpg</th>\n",
       "      <th>cylinders</th>\n",
       "      <th>displacement</th>\n",
       "      <th>horsepower</th>\n",
       "      <th>weight</th>\n",
       "      <th>acceleration</th>\n",
       "      <th>model year</th>\n",
       "      <th>origin</th>\n",
       "      <th>car name</th>\n",
       "    </tr>\n",
       "  </thead>\n",
       "  <tbody>\n",
       "    <tr>\n",
       "      <th>0</th>\n",
       "      <td>18.0</td>\n",
       "      <td>8</td>\n",
       "      <td>307.0</td>\n",
       "      <td>130.0</td>\n",
       "      <td>3504.0</td>\n",
       "      <td>12.0</td>\n",
       "      <td>70</td>\n",
       "      <td>1</td>\n",
       "      <td>chevrolet chevelle malibu</td>\n",
       "    </tr>\n",
       "    <tr>\n",
       "      <th>1</th>\n",
       "      <td>15.0</td>\n",
       "      <td>8</td>\n",
       "      <td>350.0</td>\n",
       "      <td>165.0</td>\n",
       "      <td>3693.0</td>\n",
       "      <td>11.5</td>\n",
       "      <td>70</td>\n",
       "      <td>1</td>\n",
       "      <td>buick skylark 320</td>\n",
       "    </tr>\n",
       "    <tr>\n",
       "      <th>2</th>\n",
       "      <td>18.0</td>\n",
       "      <td>8</td>\n",
       "      <td>318.0</td>\n",
       "      <td>150.0</td>\n",
       "      <td>3436.0</td>\n",
       "      <td>11.0</td>\n",
       "      <td>70</td>\n",
       "      <td>1</td>\n",
       "      <td>plymouth satellite</td>\n",
       "    </tr>\n",
       "    <tr>\n",
       "      <th>3</th>\n",
       "      <td>16.0</td>\n",
       "      <td>8</td>\n",
       "      <td>304.0</td>\n",
       "      <td>150.0</td>\n",
       "      <td>3433.0</td>\n",
       "      <td>12.0</td>\n",
       "      <td>70</td>\n",
       "      <td>1</td>\n",
       "      <td>amc rebel sst</td>\n",
       "    </tr>\n",
       "    <tr>\n",
       "      <th>4</th>\n",
       "      <td>17.0</td>\n",
       "      <td>8</td>\n",
       "      <td>302.0</td>\n",
       "      <td>140.0</td>\n",
       "      <td>3449.0</td>\n",
       "      <td>10.5</td>\n",
       "      <td>70</td>\n",
       "      <td>1</td>\n",
       "      <td>ford torino</td>\n",
       "    </tr>\n",
       "    <tr>\n",
       "      <th>5</th>\n",
       "      <td>15.0</td>\n",
       "      <td>8</td>\n",
       "      <td>429.0</td>\n",
       "      <td>198.0</td>\n",
       "      <td>4341.0</td>\n",
       "      <td>10.0</td>\n",
       "      <td>70</td>\n",
       "      <td>1</td>\n",
       "      <td>ford galaxie 500</td>\n",
       "    </tr>\n",
       "    <tr>\n",
       "      <th>6</th>\n",
       "      <td>14.0</td>\n",
       "      <td>8</td>\n",
       "      <td>454.0</td>\n",
       "      <td>220.0</td>\n",
       "      <td>4354.0</td>\n",
       "      <td>9.0</td>\n",
       "      <td>70</td>\n",
       "      <td>1</td>\n",
       "      <td>chevrolet impala</td>\n",
       "    </tr>\n",
       "    <tr>\n",
       "      <th>7</th>\n",
       "      <td>14.0</td>\n",
       "      <td>8</td>\n",
       "      <td>440.0</td>\n",
       "      <td>215.0</td>\n",
       "      <td>4312.0</td>\n",
       "      <td>8.5</td>\n",
       "      <td>70</td>\n",
       "      <td>1</td>\n",
       "      <td>plymouth fury iii</td>\n",
       "    </tr>\n",
       "    <tr>\n",
       "      <th>8</th>\n",
       "      <td>14.0</td>\n",
       "      <td>8</td>\n",
       "      <td>455.0</td>\n",
       "      <td>225.0</td>\n",
       "      <td>4425.0</td>\n",
       "      <td>10.0</td>\n",
       "      <td>70</td>\n",
       "      <td>1</td>\n",
       "      <td>pontiac catalina</td>\n",
       "    </tr>\n",
       "    <tr>\n",
       "      <th>9</th>\n",
       "      <td>15.0</td>\n",
       "      <td>8</td>\n",
       "      <td>390.0</td>\n",
       "      <td>190.0</td>\n",
       "      <td>3850.0</td>\n",
       "      <td>8.5</td>\n",
       "      <td>70</td>\n",
       "      <td>1</td>\n",
       "      <td>amc ambassador dpl</td>\n",
       "    </tr>\n",
       "    <tr>\n",
       "      <th>10</th>\n",
       "      <td>15.0</td>\n",
       "      <td>8</td>\n",
       "      <td>383.0</td>\n",
       "      <td>170.0</td>\n",
       "      <td>3563.0</td>\n",
       "      <td>10.0</td>\n",
       "      <td>70</td>\n",
       "      <td>1</td>\n",
       "      <td>dodge challenger se</td>\n",
       "    </tr>\n",
       "    <tr>\n",
       "      <th>11</th>\n",
       "      <td>14.0</td>\n",
       "      <td>8</td>\n",
       "      <td>340.0</td>\n",
       "      <td>160.0</td>\n",
       "      <td>3609.0</td>\n",
       "      <td>8.0</td>\n",
       "      <td>70</td>\n",
       "      <td>1</td>\n",
       "      <td>plymouth 'cuda 340</td>\n",
       "    </tr>\n",
       "    <tr>\n",
       "      <th>12</th>\n",
       "      <td>15.0</td>\n",
       "      <td>8</td>\n",
       "      <td>400.0</td>\n",
       "      <td>150.0</td>\n",
       "      <td>3761.0</td>\n",
       "      <td>9.5</td>\n",
       "      <td>70</td>\n",
       "      <td>1</td>\n",
       "      <td>chevrolet monte carlo</td>\n",
       "    </tr>\n",
       "    <tr>\n",
       "      <th>13</th>\n",
       "      <td>14.0</td>\n",
       "      <td>8</td>\n",
       "      <td>455.0</td>\n",
       "      <td>225.0</td>\n",
       "      <td>3086.0</td>\n",
       "      <td>10.0</td>\n",
       "      <td>70</td>\n",
       "      <td>1</td>\n",
       "      <td>buick estate wagon (sw)</td>\n",
       "    </tr>\n",
       "    <tr>\n",
       "      <th>14</th>\n",
       "      <td>24.0</td>\n",
       "      <td>4</td>\n",
       "      <td>113.0</td>\n",
       "      <td>95.00</td>\n",
       "      <td>2372.0</td>\n",
       "      <td>15.0</td>\n",
       "      <td>70</td>\n",
       "      <td>3</td>\n",
       "      <td>toyota corona mark ii</td>\n",
       "    </tr>\n",
       "  </tbody>\n",
       "</table>\n",
       "</div>"
      ],
      "text/plain": [
       "     mpg  cylinders  displacement horsepower  weight  acceleration  \\\n",
       "0   18.0          8         307.0      130.0  3504.0          12.0   \n",
       "1   15.0          8         350.0      165.0  3693.0          11.5   \n",
       "2   18.0          8         318.0      150.0  3436.0          11.0   \n",
       "3   16.0          8         304.0      150.0  3433.0          12.0   \n",
       "4   17.0          8         302.0      140.0  3449.0          10.5   \n",
       "5   15.0          8         429.0      198.0  4341.0          10.0   \n",
       "6   14.0          8         454.0      220.0  4354.0           9.0   \n",
       "7   14.0          8         440.0      215.0  4312.0           8.5   \n",
       "8   14.0          8         455.0      225.0  4425.0          10.0   \n",
       "9   15.0          8         390.0      190.0  3850.0           8.5   \n",
       "10  15.0          8         383.0      170.0  3563.0          10.0   \n",
       "11  14.0          8         340.0      160.0  3609.0           8.0   \n",
       "12  15.0          8         400.0      150.0  3761.0           9.5   \n",
       "13  14.0          8         455.0      225.0  3086.0          10.0   \n",
       "14  24.0          4         113.0      95.00  2372.0          15.0   \n",
       "\n",
       "    model year  origin                   car name  \n",
       "0           70       1  chevrolet chevelle malibu  \n",
       "1           70       1          buick skylark 320  \n",
       "2           70       1         plymouth satellite  \n",
       "3           70       1              amc rebel sst  \n",
       "4           70       1                ford torino  \n",
       "5           70       1           ford galaxie 500  \n",
       "6           70       1           chevrolet impala  \n",
       "7           70       1          plymouth fury iii  \n",
       "8           70       1           pontiac catalina  \n",
       "9           70       1         amc ambassador dpl  \n",
       "10          70       1        dodge challenger se  \n",
       "11          70       1         plymouth 'cuda 340  \n",
       "12          70       1      chevrolet monte carlo  \n",
       "13          70       1    buick estate wagon (sw)  \n",
       "14          70       3      toyota corona mark ii  "
      ]
     },
     "execution_count": 8,
     "metadata": {},
     "output_type": "execute_result"
    }
   ],
   "source": [
    "# import pandas library\n",
    "import pandas as pd\n",
    "data = pd.read_csv('auto-mpg.data', sep=r'\\s+', header=None, names=['mpg','cylinders','displacement','horsepower','weight','acceleration','model year','origin','car name'])\n",
    "\n",
    "data.head(15)\n"
   ]
  },
  {
   "cell_type": "markdown",
   "metadata": {
    "collapsed": false,
    "jupyter": {
     "outputs_hidden": false
    },
    "pycharm": {
     "name": "#%% md\n"
    }
   },
   "source": [
    "## Task 2: Clean data\n",
    "\n",
    "As described in the auto-mpg.names file, there are six missing horsepower values in the data set. For this exercise, we will ignore the six cars with this missing information. Use *pandas* to find and delete the six instances with missing horsepower information."
   ]
  },
  {
   "cell_type": "code",
   "execution_count": 10,
   "metadata": {
    "collapsed": false,
    "jupyter": {
     "outputs_hidden": false
    },
    "pycharm": {
     "name": "#%%\n"
    }
   },
   "outputs": [
    {
     "name": "stdout",
     "output_type": "stream",
     "text": [
      "     mpg  cylinders  displacement  horsepower  weight  acceleration  \\\n",
      "0   18.0          8         307.0       130.0  3504.0          12.0   \n",
      "1   15.0          8         350.0       165.0  3693.0          11.5   \n",
      "2   18.0          8         318.0       150.0  3436.0          11.0   \n",
      "3   16.0          8         304.0       150.0  3433.0          12.0   \n",
      "4   17.0          8         302.0       140.0  3449.0          10.5   \n",
      "5   15.0          8         429.0       198.0  4341.0          10.0   \n",
      "6   14.0          8         454.0       220.0  4354.0           9.0   \n",
      "7   14.0          8         440.0       215.0  4312.0           8.5   \n",
      "8   14.0          8         455.0       225.0  4425.0          10.0   \n",
      "9   15.0          8         390.0       190.0  3850.0           8.5   \n",
      "10  15.0          8         383.0       170.0  3563.0          10.0   \n",
      "11  14.0          8         340.0       160.0  3609.0           8.0   \n",
      "12  15.0          8         400.0       150.0  3761.0           9.5   \n",
      "13  14.0          8         455.0       225.0  3086.0          10.0   \n",
      "14  24.0          4         113.0        95.0  2372.0          15.0   \n",
      "\n",
      "    model year  origin                   car name  \n",
      "0           70       1  chevrolet chevelle malibu  \n",
      "1           70       1          buick skylark 320  \n",
      "2           70       1         plymouth satellite  \n",
      "3           70       1              amc rebel sst  \n",
      "4           70       1                ford torino  \n",
      "5           70       1           ford galaxie 500  \n",
      "6           70       1           chevrolet impala  \n",
      "7           70       1          plymouth fury iii  \n",
      "8           70       1           pontiac catalina  \n",
      "9           70       1         amc ambassador dpl  \n",
      "10          70       1        dodge challenger se  \n",
      "11          70       1         plymouth 'cuda 340  \n",
      "12          70       1      chevrolet monte carlo  \n",
      "13          70       1    buick estate wagon (sw)  \n",
      "14          70       3      toyota corona mark ii  \n",
      "Toplam satır sayısı: 392\n"
     ]
    }
   ],
   "source": [
    "# DataFrame'i yükle\n",
    "data = pd.read_csv('auto-mpg.data', sep=r'\\s+', header=None, names=['mpg', 'cylinders', 'displacement', 'horsepower', 'weight', 'acceleration', 'model year', 'origin', 'car name'])\n",
    "\n",
    "# Eksik horsepower değerlerini bul ve sil\n",
    "data = data[data['horsepower'] != '?']  # 'horsepower' sütununda '?' olanları filtrele\n",
    "data['horsepower'] = data['horsepower'].astype(float)  # 'horsepower' sütununu float tipine dönüştür\n",
    "\n",
    "# Sonuçları kontrol et\n",
    "print(data.head(15))  # İlk 10 satırı görüntüle\n",
    "print(f\"Toplam satır sayısı: {len(data)}\")  # Kalan satır sayısını yazdır\n"
   ]
  },
  {
   "cell_type": "markdown",
   "metadata": {
    "collapsed": false,
    "jupyter": {
     "outputs_hidden": false
    },
    "pycharm": {
     "name": "#%% md\n"
    }
   },
   "source": [
    "## Task 3: Linear Regression\n",
    "\n",
    "Your task is to predict the fuel consumption of the cars in miles per gallon. Use the linear regression formula $\\beta = (X^{T}X)^{-1}X^{T}y$ from the lecture to complete this task. Select the available numeric features cylinders, displacement, horsepower, weight, acceleration, model year and origin as input features.\n",
    "\n",
    "Calculate the root mean square error of your prediction."
   ]
  },
  {
   "cell_type": "code",
   "execution_count": 12,
   "metadata": {
    "collapsed": false,
    "jupyter": {
     "outputs_hidden": false
    },
    "pycharm": {
     "name": "#%%\n"
    }
   },
   "outputs": [
    {
     "name": "stdout",
     "output_type": "stream",
     "text": [
      "Beta katsayıları: [-1.72184346e+01 -4.93376319e-01  1.98956437e-02 -1.69511442e-02\n",
      " -6.47404340e-03  8.05758383e-02  7.50772678e-01  1.42614050e+00]\n",
      "Root Mean Square Error (RMSE): 3.2935514183022025\n"
     ]
    }
   ],
   "source": [
    "import numpy as np\n",
    "\n",
    "# Girdi ve çıktı değişkenlerini ayarla\n",
    "X = data[['cylinders', 'displacement', 'horsepower', 'weight', 'acceleration', 'model year', 'origin']]\n",
    "y = data['mpg']\n",
    "\n",
    "# Bias terimi eklemek için birler vektörü ekle (giriş matrisine sabit bir sütun ekliyoruz)\n",
    "X = np.c_[np.ones(X.shape[0]), X]\n",
    "y = y.values\n",
    "\n",
    "# Beta katsayılarını hesapla\n",
    "X_transpose = X.T\n",
    "beta = np.linalg.inv(X_transpose.dot(X)).dot(X_transpose).dot(y)\n",
    "print(\"Beta katsayıları:\", beta)\n",
    "\n",
    "# Tahminleri hesapla\n",
    "y_pred = X.dot(beta)\n",
    "\n",
    "# RMSE'yi hesapla\n",
    "rmse = np.sqrt(np.mean((y - y_pred) ** 2))\n",
    "print(\"Root Mean Square Error (RMSE):\", rmse)\n",
    "\n"
   ]
  },
  {
   "cell_type": "markdown",
   "metadata": {
    "collapsed": false,
    "jupyter": {
     "outputs_hidden": false
    },
    "pycharm": {
     "name": "#%% md\n"
    }
   },
   "source": [
    "-------------\n",
    "\n",
    "## Scikit-Learn\n",
    "\n",
    "As seen in Task 3, the linear regression model can be easily implemented in Python. For more complex algorithms, it makes sense to use existing libraries. *scikit-learn* is a very useful library for machine learning. With the help of *scikit-learn*, many machine learning models can be easily implemented. It also includes methods to transform and pre-process data before applying the machine learning algorithm and can also be used for evaluation.\n",
    "\n",
    "For example, a linear regression model can be implemented as shown in the following code block."
   ]
  },
  {
   "cell_type": "code",
   "execution_count": 16,
   "metadata": {
    "collapsed": false,
    "jupyter": {
     "outputs_hidden": false
    },
    "pycharm": {
     "name": "#%%\n"
    }
   },
   "outputs": [
    {
     "name": "stdout",
     "output_type": "stream",
     "text": [
      "Bias (intercept): -17.2184346220175\n",
      "Katsayılar (coefficients): [-0.49337632  0.01989564 -0.01695114 -0.00647404  0.08057584  0.75077268\n",
      "  1.4261405 ]\n",
      "Root Mean Squared Error (RMSE): 3.29\n"
     ]
    },
    {
     "name": "stderr",
     "output_type": "stream",
     "text": [
      "C:\\Users\\bbayr\\anaconda3\\Lib\\site-packages\\sklearn\\metrics\\_regression.py:492: FutureWarning: 'squared' is deprecated in version 1.4 and will be removed in 1.6. To calculate the root mean squared error, use the function'root_mean_squared_error'.\n",
      "  warnings.warn(\n"
     ]
    }
   ],
   "source": [
    "# Gerekli kütüphaneleri içe aktar\n",
    "import pandas as pd\n",
    "from sklearn.linear_model import LinearRegression\n",
    "from sklearn.metrics import mean_squared_error\n",
    "import numpy as np\n",
    "\n",
    "# Veri setini yükle (Task 1 ve Task 2'daki işlemlerden sonra bu veri kullanılacak)\n",
    "data = pd.read_csv('auto-mpg.data', sep=r'\\s+', header=None, names=['mpg', 'cylinders', 'displacement', 'horsepower', 'weight', 'acceleration', 'model year', 'origin', 'car name'])\n",
    "\n",
    "# Eksik horsepower değerlerini kaldır (Task 2)\n",
    "data = data[data['horsepower'] != '?']\n",
    "data['horsepower'] = data['horsepower'].astype(float)\n",
    "\n",
    "# Bağımsız değişkenleri (girdi) ve bağımlı değişkeni (çıktı) ayarla\n",
    "X = data[['cylinders', 'displacement', 'horsepower', 'weight', 'acceleration', 'model year', 'origin']]\n",
    "y = data['mpg']\n",
    "\n",
    "# Lineer model tanımla ve veriye uydur\n",
    "lm = LinearRegression(fit_intercept=True).fit(X, y)\n",
    "\n",
    "# Modelin katsayılarını yazdır\n",
    "print(\"Bias (intercept):\", lm.intercept_)\n",
    "print(\"Katsayılar (coefficients):\", lm.coef_)\n",
    "\n",
    "# Tahminleri hesapla\n",
    "y_pred = lm.predict(X)\n",
    "\n",
    "# Root Mean Squared Error (RMSE) hesapla\n",
    "rmse = mean_squared_error(y, y_pred, squared=False)\n",
    "print('Root Mean Squared Error (RMSE): {:.2f}'.format(rmse))\n"
   ]
  },
  {
   "cell_type": "markdown",
   "metadata": {
    "collapsed": false,
    "jupyter": {
     "outputs_hidden": false
    },
    "pycharm": {
     "name": "#%% md\n"
    }
   },
   "source": [
    "--------------\n",
    "## Task 4: Optimization and Evaluation\n",
    "\n",
    "In this task, we want to compare the results of the classical linear regression that we implemented above with the results of a lasso approach. In order to compare the results on unseen data, we have to define a training and a test data set.\n",
    "\n",
    "a) Use the *scikit-learn* function \"train_test_split\" to split the data into the two sets. Choose a size of 70% for the training data and 30% for the test data."
   ]
  },
  {
   "cell_type": "code",
   "execution_count": 18,
   "metadata": {
    "collapsed": false,
    "jupyter": {
     "outputs_hidden": false
    },
    "pycharm": {
     "name": "#%%\n"
    }
   },
   "outputs": [
    {
     "name": "stdout",
     "output_type": "stream",
     "text": [
      "Eğitim verisi boyutu: 274 örnek\n",
      "Test verisi boyutu: 118 örnek\n"
     ]
    }
   ],
   "source": [
    "from sklearn.model_selection import train_test_split\n",
    "\n",
    "# Bağımsız değişkenler (X) ve bağımlı değişken (y) daha önce tanımlandı\n",
    "X = data[['cylinders', 'displacement', 'horsepower', 'weight', 'acceleration', 'model year', 'origin']]\n",
    "y = data['mpg']\n",
    "\n",
    "# Veriyi eğitim (%70) ve test (%30) setlerine ayır\n",
    "X_train, X_test, y_train, y_test = train_test_split(X, y, test_size=0.3, random_state=42)\n",
    "\n",
    "# Eğitim ve test setlerinin boyutlarını kontrol et\n",
    "print(f\"Eğitim verisi boyutu: {X_train.shape[0]} örnek\")\n",
    "print(f\"Test verisi boyutu: {X_test.shape[0]} örnek\")\n"
   ]
  },
  {
   "cell_type": "markdown",
   "metadata": {
    "collapsed": false,
    "jupyter": {
     "outputs_hidden": false
    },
    "pycharm": {
     "name": "#%% md\n"
    }
   },
   "source": [
    "b) Learn the classic linear regression model on the training dataset and evaluate its performance on the training and test datasets using the root mean square error as the evaluation metric."
   ]
  },
  {
   "cell_type": "code",
   "execution_count": 20,
   "metadata": {
    "collapsed": false,
    "jupyter": {
     "outputs_hidden": false
    },
    "pycharm": {
     "name": "#%%\n"
    }
   },
   "outputs": [
    {
     "name": "stdout",
     "output_type": "stream",
     "text": [
      "Eğitim Seti için RMSE: 3.37\n",
      "Test Seti için RMSE: 3.17\n"
     ]
    },
    {
     "name": "stderr",
     "output_type": "stream",
     "text": [
      "C:\\Users\\bbayr\\anaconda3\\Lib\\site-packages\\sklearn\\metrics\\_regression.py:492: FutureWarning: 'squared' is deprecated in version 1.4 and will be removed in 1.6. To calculate the root mean squared error, use the function'root_mean_squared_error'.\n",
      "  warnings.warn(\n",
      "C:\\Users\\bbayr\\anaconda3\\Lib\\site-packages\\sklearn\\metrics\\_regression.py:492: FutureWarning: 'squared' is deprecated in version 1.4 and will be removed in 1.6. To calculate the root mean squared error, use the function'root_mean_squared_error'.\n",
      "  warnings.warn(\n"
     ]
    }
   ],
   "source": [
    "from sklearn.linear_model import LinearRegression\n",
    "from sklearn.metrics import mean_squared_error\n",
    "\n",
    "# Modeli tanımla\n",
    "lm = LinearRegression(fit_intercept=True)\n",
    "\n",
    "# Eğitim verisi üzerinde modeli eğit\n",
    "lm.fit(X_train, y_train)\n",
    "\n",
    "# Eğitim seti üzerinde tahminler yap\n",
    "y_train_pred = lm.predict(X_train)\n",
    "\n",
    "# Test seti üzerinde tahminler yap\n",
    "y_test_pred = lm.predict(X_test)\n",
    "\n",
    "# Eğitim seti için RMSE hesapla\n",
    "train_rmse = mean_squared_error(y_train, y_train_pred, squared=False)\n",
    "print(f\"Eğitim Seti için RMSE: {train_rmse:.2f}\")\n",
    "\n",
    "# Test seti için RMSE hesapla\n",
    "test_rmse = mean_squared_error(y_test, y_test_pred, squared=False)\n",
    "print(f\"Test Seti için RMSE: {test_rmse:.2f}\")\n"
   ]
  },
  {
   "cell_type": "markdown",
   "metadata": {
    "collapsed": false,
    "jupyter": {
     "outputs_hidden": false
    },
    "pycharm": {
     "name": "#%% md\n"
    }
   },
   "source": [
    "c) Learn a linear regression model with lasso regularization on the training dataset and evaluate its performance on the training and test datasets using the root mean square error as the evaluation metric. Use the \"Lasso\" module from *scikit-learn* to perform this task and set the alpha-value to 1. Compare the model coefficients and the performance with the classic linear regression approach from above. Which of the models seems to be better suited for the given task?"
   ]
  },
  {
   "cell_type": "code",
   "execution_count": 22,
   "metadata": {
    "collapsed": false,
    "jupyter": {
     "outputs_hidden": false
    },
    "pycharm": {
     "name": "#%%\n"
    }
   },
   "outputs": [
    {
     "name": "stdout",
     "output_type": "stream",
     "text": [
      "Lasso Modeli - Eğitim Seti için RMSE: 3.54\n",
      "Lasso Modeli - Test Seti için RMSE: 3.24\n",
      "Klasik Lineer Regresyon Koefisiyentleri: [-0.35963797  0.01579344 -0.02806989 -0.00600577  0.04119833  0.742086\n",
      "  1.67379885]\n",
      "Lasso Regresyon Koefisiyentleri: [-0.         -0.00279641 -0.0170872  -0.00611237  0.          0.63351407\n",
      "  0.        ]\n"
     ]
    },
    {
     "name": "stderr",
     "output_type": "stream",
     "text": [
      "C:\\Users\\bbayr\\anaconda3\\Lib\\site-packages\\sklearn\\metrics\\_regression.py:492: FutureWarning: 'squared' is deprecated in version 1.4 and will be removed in 1.6. To calculate the root mean squared error, use the function'root_mean_squared_error'.\n",
      "  warnings.warn(\n",
      "C:\\Users\\bbayr\\anaconda3\\Lib\\site-packages\\sklearn\\metrics\\_regression.py:492: FutureWarning: 'squared' is deprecated in version 1.4 and will be removed in 1.6. To calculate the root mean squared error, use the function'root_mean_squared_error'.\n",
      "  warnings.warn(\n"
     ]
    }
   ],
   "source": [
    "from sklearn.linear_model import Lasso\n",
    "from sklearn.metrics import mean_squared_error\n",
    "\n",
    "# Lasso regresyon modelini tanımla, alpha=1 ile düzenlileştirmeyi etkinleştir\n",
    "lasso = Lasso(alpha=1)\n",
    "\n",
    "# Lasso modelini eğitim verisi üzerinde eğit\n",
    "lasso.fit(X_train, y_train)\n",
    "\n",
    "# Eğitim seti üzerinde tahminler yap\n",
    "y_train_lasso_pred = lasso.predict(X_train)\n",
    "\n",
    "# Test seti üzerinde tahminler yap\n",
    "y_test_lasso_pred = lasso.predict(X_test)\n",
    "\n",
    "# Eğitim seti için RMSE hesapla\n",
    "train_lasso_rmse = mean_squared_error(y_train, y_train_lasso_pred, squared=False)\n",
    "print(f\"Lasso Modeli - Eğitim Seti için RMSE: {train_lasso_rmse:.2f}\")\n",
    "\n",
    "# Test seti için RMSE hesapla\n",
    "test_lasso_rmse = mean_squared_error(y_test, y_test_lasso_pred, squared=False)\n",
    "print(f\"Lasso Modeli - Test Seti için RMSE: {test_lasso_rmse:.2f}\")\n",
    "\n",
    "# Klasik lineer regresyon modeli ile Lasso modelinin koefisiyentlerini karşılaştır\n",
    "print(\"Klasik Lineer Regresyon Koefisiyentleri:\", lm.coef_)\n",
    "print(\"Lasso Regresyon Koefisiyentleri:\", lasso.coef_)\n",
    "\n",
    "# Lasso'nun koefisiyentlerinin sıfırlanan elemanları, regularization'ın etkisini gösterir.\n"
   ]
  },
  {
   "cell_type": "markdown",
   "metadata": {
    "collapsed": false,
    "jupyter": {
     "outputs_hidden": false
    },
    "pycharm": {
     "name": "#%% md\n"
    }
   },
   "source": [
    "d) Perform a hyperparameter optimization for the Lasso approach by trying different values for the hyperparameter alpha. Evaluate the performance and find the alpha value with the best performance."
   ]
  },
  {
   "cell_type": "code",
   "execution_count": 26,
   "metadata": {
    "collapsed": false,
    "jupyter": {
     "outputs_hidden": false
    },
    "pycharm": {
     "name": "#%%\n"
    }
   },
   "outputs": [
    {
     "name": "stdout",
     "output_type": "stream",
     "text": [
      "En iyi alpha değeri: 0.11513953993264481\n",
      "En iyi CV RMSE (5 katlı çapraz doğrulama kullanıldı): 3.51\n"
     ]
    },
    {
     "data": {
      "image/png": "[encoded data removed]",
      "text/plain": [
       "<Figure size 1000x600 with 1 Axes>"
      ]
     },
     "metadata": {},
     "output_type": "display_data"
    }
   ],
   "source": [
    "from sklearn.model_selection import GridSearchCV\n",
    "from sklearn.linear_model import Lasso\n",
    "\n",
    "# Lasso modelini tanımla\n",
    "lasso = Lasso()\n",
    "\n",
    "# Denenecek alpha değerlerinin listesi\n",
    "alpha_values = np.logspace(-4, 1, 50)  # 10^-4 ile 10^1 arasında 50 değer\n",
    "\n",
    "# Parametre grid'ini tanımla\n",
    "param_grid = {'alpha': alpha_values}\n",
    "\n",
    "# GridSearchCV ile hiperparametre optimizasyonu\n",
    "grid_search = GridSearchCV(lasso, param_grid, cv=5, scoring='neg_mean_squared_error', n_jobs=-1)\n",
    "\n",
    "# Modeli eğitim verisi üzerinde eğit\n",
    "grid_search.fit(X_train, y_train)\n",
    "\n",
    "# En iyi alpha değeri ve ilgili performansı al\n",
    "best_alpha = grid_search.best_params_['alpha']\n",
    "best_rmse = np.sqrt(-grid_search.best_score_)  # Negatif MSE olduğu için işaretini değiştiriyoruz\n",
    "\n",
    "# Sonuçları yazdır\n",
    "print(f\"En iyi alpha değeri: {best_alpha}\")\n",
    "print(f\"En iyi CV RMSE (5 katlı çapraz doğrulama kullanıldı): {best_rmse:.2f}\")\n",
    "\n",
    "import matplotlib.pyplot as plt\n",
    "\n",
    "# GridSearchCV ile tüm alpha değerleri üzerinden eğitim ve test seti performansını hesapla\n",
    "train_rmse = []\n",
    "test_rmse = []\n",
    "\n",
    "for alpha in alpha_values:\n",
    "    # Lasso modelini tanımla ve alpha değerini ayarla\n",
    "    lasso = Lasso(alpha=alpha)\n",
    "    \n",
    "    # Modeli eğitim verisi üzerinde eğit\n",
    "    lasso.fit(X_train, y_train)\n",
    "    \n",
    "    # Eğitim seti için tahmin yap\n",
    "    train_pred = lasso.predict(X_train)\n",
    "    train_rmse.append(np.sqrt(mean_squared_error(y_train, train_pred)))\n",
    "    \n",
    "    # Test seti için tahmin yap\n",
    "    test_pred = lasso.predict(X_test)\n",
    "    test_rmse.append(np.sqrt(mean_squared_error(y_test, test_pred)))\n",
    "\n",
    "# Alpha vs RMSE grafiğini çiz\n",
    "plt.figure(figsize=(10, 6))\n",
    "plt.plot(alpha_values, train_rmse, label=\"Training Set RMSE\", color='blue')\n",
    "plt.plot(alpha_values, test_rmse, label=\"Test Set RMSE\", color='red')\n",
    "plt.xscale('log')  # Alpha'yı logaritmik olarak göster\n",
    "plt.xlabel('Alpha (log scale)')\n",
    "plt.ylabel('RMSE')\n",
    "plt.title('Alpha vs RMSE for Lasso Regression')\n",
    "plt.legend()\n",
    "plt.grid(True)\n",
    "plt.show()\n",
    "\n"
   ]
  },
  {
   "cell_type": "code",
   "execution_count": 28,
   "metadata": {},
   "outputs": [
    {
     "data": {
      "image/png": "[encoded data removed]",
      "text/plain": [
       "<Figure size 1000x600 with 1 Axes>"
      ]
     },
     "metadata": {},
     "output_type": "display_data"
    }
   ],
   "source": [
    "import matplotlib.pyplot as plt\n",
    "\n",
    "# GridSearchCV ile tüm alpha değerleri üzerinden eğitim ve test seti performansını hesapla\n",
    "train_rmse = []\n",
    "test_rmse = []\n",
    "\n",
    "for alpha in alpha_values:\n",
    "    # Lasso modelini tanımla ve alpha değerini ayarla\n",
    "    lasso = Lasso(alpha=alpha)\n",
    "    \n",
    "    # Modeli eğitim verisi üzerinde eğit\n",
    "    lasso.fit(X_train, y_train)\n",
    "    \n",
    "    # Eğitim seti için tahmin yap\n",
    "    train_pred = lasso.predict(X_train)\n",
    "    train_rmse.append(np.sqrt(mean_squared_error(y_train, train_pred)))\n",
    "    \n",
    "    # Test seti için tahmin yap\n",
    "    test_pred = lasso.predict(X_test)\n",
    "    test_rmse.append(np.sqrt(mean_squared_error(y_test, test_pred)))\n",
    "\n",
    "# Alpha vs RMSE grafiğini çiz\n",
    "plt.figure(figsize=(10, 6))\n",
    "plt.plot(alpha_values, train_rmse, label=\"Training Set RMSE\", color='blue')\n",
    "plt.plot(alpha_values, test_rmse, label=\"Test Set RMSE\", color='red')\n",
    "plt.xlabel('Alpha')\n",
    "plt.ylabel('RMSE')\n",
    "plt.title('Alpha vs RMSE for Lasso Regression')\n",
    "plt.legend()\n",
    "plt.grid(True)\n",
    "plt.show()\n"
   ]
  },
  {
   "cell_type": "code",
   "execution_count": null,
   "metadata": {},
   "outputs": [],
   "source": []
  }
 ],
 "metadata": {
  "kernelspec": {
   "display_name": "Python 3 (ipykernel)",
   "language": "python",
   "name": "python3"
  },
  "language_info": {
   "codemirror_mode": {
    "name": "ipython",
    "version": 3
   },
   "file_extension": ".py",
   "mimetype": "text/x-python",
   "name": "python",
   "nbconvert_exporter": "python",
   "pygments_lexer": "ipython3",
   "version": "3.12.7"
  }
 },
 "nbformat": 4,
 "nbformat_minor": 4
}
