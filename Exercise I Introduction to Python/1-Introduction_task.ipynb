{
 "cells": [
  {
   "cell_type": "markdown",
   "metadata": {
    "collapsed": false,
    "jupyter": {
     "outputs_hidden": false
    },
    "pycharm": {
     "name": "#%% md\n"
    }
   },
   "source": [
    "## Data Types\n",
    "\n",
    "Variables can store different types of data. The data type is very important in programming, because certain functions or operators often require their input arguments to be of a certain type.\n",
    "\n",
    "The most important data types for our use cases are:\n",
    "- Numeric types\n",
    "    - *float*: Floating point numbers, e.g. a = 3.141\n",
    "    - *int*: Integer numbers, e.g. a = 284\n",
    "    - *complex*: Complex numbers, e.g. a = 3+2j\n",
    "- Text types\n",
    "    - *str*: Strings of textual data, e.g. a = 'Hello World'\n",
    "- Boolean type:\n",
    "    - *bool*: a = True or a = False\n",
    "- Data types for storing collections of data\n",
    "    - *tuple*: Tuples\n",
    "    - *list*: Lists\n",
    "    - *dict*: Dictionaries\n",
    "    - *set*: Sets\n",
    "\n",
    "If you want to know the data type of an object, you can use the \"type()\" function. You can also specify a data type when you define a variable."
   ]
  },
  {
   "cell_type": "code",
   "execution_count": 3,
   "metadata": {
    "collapsed": false,
    "jupyter": {
     "outputs_hidden": false
    },
    "pycharm": {
     "name": "#%%\n"
    }
   },
   "outputs": [
    {
     "name": "stdout",
     "output_type": "stream",
     "text": [
      "<class 'int'>\n",
      "<class 'float'>\n"
     ]
    }
   ],
   "source": [
    "# Define an integer variable\n",
    "int_variable = 15\n",
    "print(type(int_variable))\n",
    "\n",
    "# Specify the data type as float\n",
    "float_variable = float(15)\n",
    "print(type(float_variable))"
   ]
  },
  {
   "cell_type": "markdown",
   "metadata": {
    "collapsed": false,
    "jupyter": {
     "outputs_hidden": false
    },
    "pycharm": {
     "name": "#%% md\n"
    }
   },
   "source": [
    "## Calculating with numeric data\n",
    "\n",
    "Python is easy to use for calculations. Most calculation operators are intuitive:\n",
    "\n",
    "|  Operator  | Name           |\n",
    "|:----------:|----------------|\n",
    "|     +      | Addition       |\n",
    "|     -      | Subtraction    |\n",
    "|     *      | Multiplication |\n",
    "|     /      | Division       |\n",
    "|     **     | Exponentiation |\n",
    "|     %      | Modulus        |\n",
    "|     //     | Floor division |\n"
   ]
  },
  {
   "cell_type": "code",
   "execution_count": 4,
   "metadata": {
    "collapsed": false,
    "jupyter": {
     "outputs_hidden": false
    },
    "pycharm": {
     "name": "#%%\n"
    }
   },
   "outputs": [
    {
     "name": "stdout",
     "output_type": "stream",
     "text": [
      "3\n"
     ]
    }
   ],
   "source": [
    "# Sample calculation\n",
    "x = 3**3%8\n",
    "\n",
    "print(x)"
   ]
  },
  {
   "cell_type": "markdown",
   "metadata": {
    "collapsed": false,
    "jupyter": {
     "outputs_hidden": false
    },
    "pycharm": {
     "name": "#%% md\n"
    }
   },
   "source": [
    "## Importing Libraries\n",
    "\n",
    "Not all mathematical functions are already available in the basic Python module. This means that we have to import them before we can use them. Some very important libraries that we will use in this first exercise are:\n",
    "- numpy: Contains basic mathematical operations and is used for working with vectors, arrays and matrices\n",
    "- matplotlib: Can be used to create various plots"
   ]
  },
  {
   "cell_type": "code",
   "execution_count": 5,
   "metadata": {
    "collapsed": false,
    "jupyter": {
     "outputs_hidden": false
    },
    "pycharm": {
     "name": "#%%\n"
    }
   },
   "outputs": [
    {
     "data": {
      "text/plain": [
       "[<matplotlib.lines.Line2D at 0x1be03ea56a0>]"
      ]
     },
     "execution_count": 5,
     "metadata": {},
     "output_type": "execute_result"
    },
    {
     "data": {
      "image/png": "[encoded data removed]",
      "text/plain": [
       "<Figure size 640x480 with 1 Axes>"
      ]
     },
     "metadata": {},
     "output_type": "display_data"
    }
   ],
   "source": [
    "# Example: plot the exponential function\n",
    "# import libraries\n",
    "import numpy as np\n",
    "import matplotlib.pyplot as plt\n",
    "\n",
    "x = np.linspace(0,5,100)    # vector with 100 evenly spaced numbers from 0 to 5\n",
    "y = np.exp(x)               # exponential function \n",
    "\n",
    "plt.plot(x,y)"
   ]
  },
  {
   "cell_type": "markdown",
   "metadata": {
    "collapsed": false,
    "jupyter": {
     "outputs_hidden": false
    },
    "pycharm": {
     "name": "#%% md\n"
    }
   },
   "source": [
    "## Working with strings\n",
    "\n",
    "Strings are declared using either single or double quotation marks. This means that 'Hello World' is the same thing as \"Hello World\"."
   ]
  },
  {
   "cell_type": "code",
   "execution_count": 6,
   "metadata": {
    "collapsed": false,
    "jupyter": {
     "outputs_hidden": false
    },
    "pycharm": {
     "name": "#%%\n"
    }
   },
   "outputs": [
    {
     "name": "stdout",
     "output_type": "stream",
     "text": [
      "<class 'str'>\n",
      "<class 'str'>\n"
     ]
    }
   ],
   "source": [
    "a = 'Hello'\n",
    "b = \"Hello\"\n",
    "print(type(a))\n",
    "print(type(b))"
   ]
  },
  {
   "cell_type": "markdown",
   "metadata": {
    "collapsed": false,
    "jupyter": {
     "outputs_hidden": false
    },
    "pycharm": {
     "name": "#%% md\n"
    }
   },
   "source": [
    "Python handles strings as arrays of characters. They can be concatenated using the + operator."
   ]
  },
  {
   "cell_type": "code",
   "execution_count": 7,
   "metadata": {
    "collapsed": false,
    "jupyter": {
     "outputs_hidden": false
    },
    "pycharm": {
     "name": "#%%\n"
    }
   },
   "outputs": [
    {
     "name": "stdout",
     "output_type": "stream",
     "text": [
      "Hello World\n"
     ]
    }
   ],
   "source": [
    "a = 'He'\n",
    "b = 'llo'\n",
    "c = a + b + ' World'\n",
    "print(c)"
   ]
  },
  {
   "cell_type": "markdown",
   "metadata": {
    "collapsed": false,
    "jupyter": {
     "outputs_hidden": false
    },
    "pycharm": {
     "name": "#%% md\n"
    }
   },
   "source": [
    "You can access substrings using [] brackets and an index to identify the characters you want to access. Index 0 stands for the first character in the string, index n-1 for the last, where n is the total number of characters."
   ]
  },
  {
   "cell_type": "code",
   "execution_count": 8,
   "metadata": {
    "collapsed": false,
    "jupyter": {
     "outputs_hidden": false
    },
    "pycharm": {
     "name": "#%%\n"
    }
   },
   "outputs": [
    {
     "name": "stdout",
     "output_type": "stream",
     "text": [
      "Hello\n",
      "d\n",
      "World\n",
      "llo World\n"
     ]
    }
   ],
   "source": [
    "a = 'Hello World'\n",
    "\n",
    "# get the first five characters\n",
    "b = a[0:5] # this is interpreted as getting the characters 0, 1, 2, 3 and 4\n",
    "print(b)\n",
    "\n",
    "# total number of characters\n",
    "n = len(a)\n",
    "# last character\n",
    "c = a[n-1]\n",
    "print(c)\n",
    "\n",
    "# last five characters - the indices can also be negative which means they are counted from the end, an index -5 is interpreted as n-5\n",
    "d = a[-5:]\n",
    "print(d)\n",
    "\n",
    "# get all characters starting with the third character\n",
    "e = a[2:]\n",
    "print(e)"
   ]
  },
  {
   "cell_type": "markdown",
   "metadata": {
    "collapsed": false,
    "jupyter": {
     "outputs_hidden": false
    },
    "pycharm": {
     "name": "#%% md\n"
    }
   },
   "source": [
    "## Lists, tuples, sets, dictionaries\n",
    "\n",
    "In Python, there are several ways to store multiple elements in a single variable:\n",
    "- lists are collections that are ordered, changeable and allow duplicate values\n",
    "- tuples are collections that are ordered, unchangeable and allow duplicate values\n",
    "- sets are collections that are unordered, unchangeable and do not allow duplicate values\n",
    "- dictionaries are collections that are ordered, changeable and do not allow duplicate values"
   ]
  },
  {
   "cell_type": "markdown",
   "metadata": {
    "collapsed": false,
    "jupyter": {
     "outputs_hidden": false
    },
    "pycharm": {
     "name": "#%% md\n"
    }
   },
   "source": [
    "**Lists** are collections of other objects - these can be strings, floats or other lists. They are ordered which means that there is a start item with index 0, and an end item. All items can be accessed via their indices."
   ]
  },
  {
   "cell_type": "code",
   "execution_count": 9,
   "metadata": {
    "collapsed": false,
    "jupyter": {
     "outputs_hidden": false
    },
    "pycharm": {
     "name": "#%%\n"
    }
   },
   "outputs": [
    {
     "name": "stdout",
     "output_type": "stream",
     "text": [
      "['apple', 'peach', 'banana', 4]\n",
      "peach\n",
      "['apple', 'peach', 'pear', 4]\n"
     ]
    }
   ],
   "source": [
    "# lists are created using square brackets\n",
    "sample_list = ['apple', 'peach', 'banana']\n",
    "\n",
    "# add items to the list\n",
    "sample_list.append(4) # the elements in a list do not have to be of the same data type\n",
    "print(sample_list)\n",
    "\n",
    "# list items can be accessed via their index - this works exactly the same as for strings\n",
    "print(sample_list[1])\n",
    "\n",
    "# list items are changeable\n",
    "sample_list[2] = 'pear'\n",
    "print(sample_list)"
   ]
  },
  {
   "cell_type": "markdown",
   "metadata": {
    "collapsed": false,
    "jupyter": {
     "outputs_hidden": false
    },
    "pycharm": {
     "name": "#%% md\n"
    }
   },
   "source": [
    "Like lists, **tuples** are ordered collections of other objects. The difference is that they are unchangeable."
   ]
  },
  {
   "cell_type": "code",
   "execution_count": 10,
   "metadata": {
    "collapsed": false,
    "jupyter": {
     "outputs_hidden": false
    },
    "pycharm": {
     "name": "#%%\n"
    }
   },
   "outputs": [
    {
     "name": "stdout",
     "output_type": "stream",
     "text": [
      "('apple', 'peach', 'banana')\n",
      "apple\n"
     ]
    }
   ],
   "source": [
    "# tuples are created using parentheses\n",
    "sample_tuple = ('apple', 'peach', 'banana')\n",
    "print(sample_tuple)\n",
    "\n",
    "# like lists, they can be accessed using indexing\n",
    "print(sample_tuple[0])"
   ]
  },
  {
   "cell_type": "code",
   "execution_count": 11,
   "metadata": {
    "collapsed": false,
    "jupyter": {
     "outputs_hidden": false
    },
    "pycharm": {
     "name": "#%%\n"
    }
   },
   "outputs": [
    {
     "ename": "TypeError",
     "evalue": "'tuple' object does not support item assignment",
     "output_type": "error",
     "traceback": [
      "\u001b[1;31m---------------------------------------------------------------------------\u001b[0m",
      "\u001b[1;31mTypeError\u001b[0m                                 Traceback (most recent call last)",
      "Cell \u001b[1;32mIn[11], line 2\u001b[0m\n\u001b[0;32m      1\u001b[0m \u001b[38;5;66;03m# tuples cannot be changed\u001b[39;00m\n\u001b[1;32m----> 2\u001b[0m sample_tuple[\u001b[38;5;241m1\u001b[39m] \u001b[38;5;241m=\u001b[39m \u001b[38;5;124m'\u001b[39m\u001b[38;5;124mcherry\u001b[39m\u001b[38;5;124m'\u001b[39m\n",
      "\u001b[1;31mTypeError\u001b[0m: 'tuple' object does not support item assignment"
     ]
    }
   ],
   "source": [
    "# tuples cannot be changed\n",
    "sample_tuple[1] = 'cherry'"
   ]
  },
  {
   "cell_type": "code",
   "execution_count": 12,
   "metadata": {
    "collapsed": false,
    "jupyter": {
     "outputs_hidden": false
    },
    "pycharm": {
     "name": "#%%\n"
    }
   },
   "outputs": [
    {
     "name": "stdout",
     "output_type": "stream",
     "text": [
      "('apple', 'peach', 'banana', 'cherry')\n"
     ]
    }
   ],
   "source": [
    "# To add an item to a tuple, you can join it as another tuple\n",
    "tuple_2 = sample_tuple + ('cherry',)\n",
    "print(tuple_2)"
   ]
  },
  {
   "cell_type": "markdown",
   "metadata": {
    "collapsed": false,
    "jupyter": {
     "outputs_hidden": false
    },
    "pycharm": {
     "name": "#%% md\n"
    }
   },
   "source": [
    "**Sets** are unordered collections of data. They cannot be indexed. Like tuples, they cannot be modified."
   ]
  },
  {
   "cell_type": "code",
   "execution_count": 13,
   "metadata": {
    "collapsed": false,
    "jupyter": {
     "outputs_hidden": false
    },
    "pycharm": {
     "name": "#%%\n"
    }
   },
   "outputs": [
    {
     "name": "stdout",
     "output_type": "stream",
     "text": [
      "{'banana', 'apple', 'peach'}\n",
      "{'banana', 'apple', 'cherry'}\n",
      "{'banana', 'apple', 'cherry'}\n",
      "True\n"
     ]
    }
   ],
   "source": [
    "# sets are created using curly brackets\n",
    "sample_set = {'apple', 'peach', 'banana'}\n",
    "print(sample_set) # as sets are unordered, the elements are not printed in the order of creation\n",
    "\n",
    "# items can be added and removed\n",
    "sample_set.add('cherry')\n",
    "sample_set.remove('peach')\n",
    "print(sample_set)\n",
    "\n",
    "# duplicate values are not allowed and will be ignored\n",
    "sample_set.add('apple')\n",
    "print(sample_set)\n",
    "\n",
    "# indexing to access individual items is not possible\n",
    "# but you can check whether an item is present in the set\n",
    "print('apple' in sample_set)"
   ]
  },
  {
   "cell_type": "markdown",
   "metadata": {
    "collapsed": false,
    "jupyter": {
     "outputs_hidden": false
    },
    "pycharm": {
     "name": "#%% md\n"
    }
   },
   "source": [
    "**Dictionaries** are used to store data in key:value pairs. The values can be accessed using the keys in the dictionary."
   ]
  },
  {
   "cell_type": "code",
   "execution_count": 14,
   "metadata": {
    "collapsed": false,
    "jupyter": {
     "outputs_hidden": false
    },
    "pycharm": {
     "name": "#%%\n"
    }
   },
   "outputs": [
    {
     "name": "stdout",
     "output_type": "stream",
     "text": [
      "{'name': 'John', 'age': 25, 'hair color': 'brown'}\n",
      "John\n",
      "{'name': 'John', 'age': 30, 'hair color': 'brown'}\n",
      "{'name': 'John', 'age': 30, 'eye color': 'green'}\n"
     ]
    }
   ],
   "source": [
    "# dictionaries are created using curly brackets and key: value pairs\n",
    "sample_dict = {'name': 'John',\n",
    "               'age': 25,\n",
    "               'hair color': 'brown'}\n",
    "print(sample_dict)\n",
    "\n",
    "# access values via their key\n",
    "print(sample_dict['name'])\n",
    "\n",
    "# the values of a dictionary can be changed\n",
    "sample_dict['age'] = 30\n",
    "print(sample_dict)\n",
    "\n",
    "# key:value pairs can be added or removed\n",
    "sample_dict['eye color'] = 'green'\n",
    "del sample_dict['hair color']\n",
    "print(sample_dict)"
   ]
  },
  {
   "cell_type": "markdown",
   "metadata": {
    "collapsed": false,
    "jupyter": {
     "outputs_hidden": false
    },
    "pycharm": {
     "name": "#%% md\n"
    }
   },
   "source": [
    "## If statements\n",
    "\n",
    "If statements are used to express logical conditions. The code within an if statement will only be executed if a particular condition is met. Possible logical conditions include:\n",
    "- equal to: _a == b_\n",
    "- not equal to: _a != b_\n",
    "- less than: _a < b_\n",
    "- less than or equal to: _a <= b_\n",
    "- greater than: _a > b_\n",
    "- greater than or equal to: _a >= b_\n",
    "- other logical operations, e.g.: _a in list_\n",
    "\n",
    "If statements are constructed using the keywords _if_, _elif_ (\"else if\") and _else_."
   ]
  },
  {
   "cell_type": "code",
   "execution_count": 15,
   "metadata": {
    "collapsed": false,
    "jupyter": {
     "outputs_hidden": false
    },
    "pycharm": {
     "name": "#%%\n"
    }
   },
   "outputs": [
    {
     "name": "stdout",
     "output_type": "stream",
     "text": [
      "a equals b\n"
     ]
    }
   ],
   "source": [
    "# example: check whether number a is higher or lower than b\n",
    "a = 10\n",
    "b = 10\n",
    "\n",
    "# the conditions end with a colon, the code within the statement is indented\n",
    "if a > b:\n",
    "    print('a is higher than b')\n",
    "elif a < b: # this condition is tried when the previous condition was not true\n",
    "    print('b is higher than a')\n",
    "else: # executed when all the preceding conditions were not met\n",
    "    print('a equals b')\n"
   ]
  },
  {
   "cell_type": "code",
   "execution_count": 16,
   "metadata": {
    "collapsed": false,
    "jupyter": {
     "outputs_hidden": false
    },
    "pycharm": {
     "name": "#%%\n"
    }
   },
   "outputs": [
    {
     "name": "stdout",
     "output_type": "stream",
     "text": [
      "{'banana', 'apple', 'cherry', 'pear'}\n"
     ]
    }
   ],
   "source": [
    "# example: check whether an item is included in a set and if not, add it\n",
    "set_a = {'apple', 'banana', 'cherry'}\n",
    "item = 'pear'\n",
    "\n",
    "if item not in set_a:\n",
    "    set_a.add(item)\n",
    "    print(set_a)\n",
    "else:\n",
    "    print('item is already in the set')"
   ]
  },
  {
   "cell_type": "markdown",
   "metadata": {
    "collapsed": false,
    "jupyter": {
     "outputs_hidden": false
    },
    "pycharm": {
     "name": "#%% md\n"
    }
   },
   "source": [
    "## Loops\n",
    "\n",
    "Python has two types of loop commands: *while* and *for* loops.\n",
    "\n",
    "While loops are executed as long as a given condition is true. For loops are used to iterate over a sequence."
   ]
  },
  {
   "cell_type": "code",
   "execution_count": 17,
   "metadata": {
    "collapsed": false,
    "jupyter": {
     "outputs_hidden": false
    },
    "pycharm": {
     "name": "#%%\n"
    }
   },
   "outputs": [
    {
     "name": "stdout",
     "output_type": "stream",
     "text": [
      "1\n",
      "2\n",
      "3\n",
      "4\n",
      "5\n"
     ]
    }
   ],
   "source": [
    "# example for a while loop\n",
    "# count from 1 to 5\n",
    "i = 1\n",
    "while i <= 5:\n",
    "    print(i)\n",
    "    i += 1"
   ]
  },
  {
   "cell_type": "code",
   "execution_count": 18,
   "metadata": {
    "collapsed": false,
    "jupyter": {
     "outputs_hidden": false
    },
    "pycharm": {
     "name": "#%%\n"
    }
   },
   "outputs": [
    {
     "name": "stdout",
     "output_type": "stream",
     "text": [
      "cherry\n",
      "peach\n",
      "banana\n",
      "1\n",
      "2\n",
      "3\n",
      "4\n",
      "5\n"
     ]
    }
   ],
   "source": [
    "# examples for a for loop\n",
    "\n",
    "# loop through a list of items\n",
    "sample_list = ['cherry', 'peach', 'banana']\n",
    "for i in sample_list:\n",
    "    print(i)\n",
    "\n",
    "# we can also use a for loop to count from 1 to 5\n",
    "# the range() function returns a sequence of numbers with a given start and end value\n",
    "for i in range(1,6):\n",
    "    print(i)\n"
   ]
  },
  {
   "cell_type": "code",
   "execution_count": 19,
   "metadata": {
    "collapsed": false,
    "jupyter": {
     "outputs_hidden": false
    },
    "pycharm": {
     "name": "#%%\n"
    }
   },
   "outputs": [
    {
     "name": "stdout",
     "output_type": "stream",
     "text": [
      "1\n",
      "3\n",
      "4\n"
     ]
    }
   ],
   "source": [
    "# the \"continue\" statement can be used to stop the current iteration and continue with the next\n",
    "# the \"break\" statement is used to stop the loop\n",
    "\n",
    "# example of our loop for counting from 1 to 5\n",
    "i = 0\n",
    "while i <= 5:\n",
    "    i += 1\n",
    "    if i == 2:\n",
    "        continue    # skip number 2 and continue with the next one\n",
    "    \n",
    "    print(i)\n",
    "\n",
    "    if i == 4:\n",
    "        break       # stop the loop completely after reaching 4\n",
    "    \n"
   ]
  },
  {
   "cell_type": "markdown",
   "metadata": {
    "collapsed": false,
    "jupyter": {
     "outputs_hidden": false
    },
    "pycharm": {
     "name": "#%% md\n"
    }
   },
   "source": [
    "## Functions\n",
    "\n",
    "A function is a block of code that only runs when called. This is very useful for organizing your code. A function can take certain parameters as input and can also return parameters. Functions are defined using the **def** keyword."
   ]
  },
  {
   "cell_type": "code",
   "execution_count": 20,
   "metadata": {
    "collapsed": false,
    "jupyter": {
     "outputs_hidden": false
    },
    "pycharm": {
     "name": "#%%\n"
    }
   },
   "outputs": [
    {
     "name": "stdout",
     "output_type": "stream",
     "text": [
      "Hello World\n"
     ]
    }
   ],
   "source": [
    "# create a function called first_function that prints a greeting\n",
    "def first_function():\n",
    "    print('Hello World')\n",
    "\n",
    "# the function is called using its name followed by parenthesis\n",
    "first_function()"
   ]
  },
  {
   "cell_type": "code",
   "execution_count": 21,
   "metadata": {
    "collapsed": false,
    "jupyter": {
     "outputs_hidden": false
    },
    "pycharm": {
     "name": "#%%\n"
    }
   },
   "outputs": [
    {
     "name": "stdout",
     "output_type": "stream",
     "text": [
      "10\n"
     ]
    }
   ],
   "source": [
    "# function to double a given number\n",
    "\n",
    "# input parameters are defined within the parenthesis of the function\n",
    "def double(number):\n",
    "    double_number = 2*number\n",
    "    # Use the return statement to let the function return a value\n",
    "    return double_number\n",
    "\n",
    "x = 5\n",
    "y = double(x)\n",
    "print(y)"
   ]
  },
  {
   "cell_type": "markdown",
   "metadata": {
    "collapsed": false,
    "jupyter": {
     "outputs_hidden": false
    },
    "pycharm": {
     "name": "#%% md\n"
    }
   },
   "source": [
    "\n",
    "## Part 2: Programming Tasks\n",
    "----------\n",
    "Here are four tasks to test your programming skills. Use your already existing programming skills and the information in this notebook to solve the tasks!\n",
    "\n",
    "<br/>\n",
    "\n",
    "## Task 1: Plotting graphs\n",
    "\n",
    "Calculate the sine and cosine functions over a period from $0$ to $2\\pi$ and plot the two functions on a graph. Assign the color red to the sine curve and blue to the cosine curve. Add a legend and axis labels to the graphs.\n",
    "\n",
    "Tip: Use the matplotlib.pyplot and numpy libraries to perform this task. For help, you can refer to the internet documentation of these libraries."
   ]
  },
  {
   "cell_type": "code",
   "execution_count": 19,
   "metadata": {
    "collapsed": false,
    "jupyter": {
     "outputs_hidden": false
    },
    "pycharm": {
     "name": "#%%\n"
    }
   },
   "outputs": [
    {
     "data": {
      "image/png": "[encoded data removed]",
      "text/plain": [
       "<Figure size 640x480 with 1 Axes>"
      ]
     },
     "metadata": {},
     "output_type": "display_data"
    }
   ],
   "source": [
    "import matplotlib.pyplot as plt\n",
    "import numpy as np\n",
    "\n",
    "x = np.linspace(0, 2*np.pi, 100)\n",
    "y1 = np.sin(x)\n",
    "y2 = np.cos(x)\n",
    "\n",
    "plt.plot(x,y1, label =\"sin(x)\", color =\"blue\")\n",
    "plt.plot(x,y2, label =\"cos(x)\", color = \"red\")\n",
    "plt.xlabel(\"x values\")\n",
    "plt.ylabel(\"y values\")\n",
    "plt.title(\"Sin and Cos Wave\")\n",
    "plt.legend()\n",
    "plt.show()\n"
   ]
  },
  {
   "cell_type": "markdown",
   "metadata": {
    "collapsed": false,
    "jupyter": {
     "outputs_hidden": false
    },
    "pycharm": {
     "name": "#%% md\n"
    }
   },
   "source": [
    "## Task 2: Matrix Multiplication\n",
    "\n",
    "Write a program that takes two matrices (given as two numpy arrays) and performs a matrix multiplication of these two matrices. The program should first check whether a multiplication is possible. Remember: matrices can only be multiplied if the number of columns in the first matrix is equal to the number of rows in the second matrix. After that, the multiplication should be performed by iterating over the rows and columns and calculating the dot products of each row of the first matrix with each column of the second matrix."
   ]
  },
  {
   "cell_type": "code",
   "execution_count": 39,
   "metadata": {
    "collapsed": false,
    "jupyter": {
     "outputs_hidden": false
    },
    "pycharm": {
     "name": "#%%\n"
    }
   },
   "outputs": [
    {
     "name": "stdout",
     "output_type": "stream",
     "text": [
      "Matrix A:\n",
      " [[1 2 3]\n",
      " [4 5 6]]\n",
      "Matrix B:\n",
      " [[1 2]\n",
      " [3 4]\n",
      " [5 6]]\n",
      "rows1: 2\n",
      "cols1: 3\n",
      "rows2: 3\n",
      "cols2: 2\n",
      "Resultant Matrix C:\n",
      " [[22. 28.]\n",
      " [49. 64.]]\n"
     ]
    }
   ],
   "source": [
    "import numpy as np\n",
    "\n",
    "# İki matrisi tanımla\n",
    "a = np.array([[1, 2, 3], [4, 5, 6]])\n",
    "b = np.array([[1, 2], [3, 4], [5, 6]])\n",
    "\n",
    "# Matrisleri yazdır\n",
    "print(\"Matrix A:\\n\", a)\n",
    "print(\"Matrix B:\\n\", b)\n",
    "\n",
    "# Matrislerin boyutlarını al\n",
    "rows1, cols1 = a.shape\n",
    "rows2, cols2 = b.shape\n",
    "\n",
    "print(\"rows1:\", rows1)\n",
    "print(\"cols1:\", cols1)\n",
    "print(\"rows2:\", rows2)\n",
    "print(\"cols2:\", cols2)\n",
    "\n",
    "# Çarpımın mümkün olup olmadığını kontrol et\n",
    "if cols1 == rows2:\n",
    "    # Sonucu tutacak boş bir matris oluştur\n",
    "    c = np.zeros((rows1, cols2))\n",
    "    \n",
    "    # Matris çarpımını hesapla\n",
    "    for i in range(rows1):  # A'nın satırları\n",
    "        for j in range(cols2):  # B'nin sütunları\n",
    "            total = 0  # Geçici toplam değişkeni\n",
    "            for k in range(cols1):  # A'nın sütunları ve B'nin satırları\n",
    "                total = total + a[i, k] * b[k, j]  # Noktasal çarpım\n",
    "            c[i, j] = total  # Sonucu atama\n",
    "\n",
    "    # Sonucu yazdır\n",
    "    print(\"Resultant Matrix C:\\n\", c)\n",
    "else:\n",
    "    print(\"Matris çarpımı mümkün değil!\")\n"
   ]
  },
  {
   "cell_type": "markdown",
   "metadata": {
    "collapsed": false,
    "jupyter": {
     "outputs_hidden": false
    },
    "pycharm": {
     "name": "#%% md\n"
    }
   },
   "source": [
    "## Task 3: Fibonacci\n",
    "\n",
    "The Fibonacci sequence is a series of numbers starting with 0,1,1,2,3,5,8,13,...\n",
    "\n",
    "The next number in the sequence is always calculated by adding the two numbers before it. Write a function that takes a natural number n as an input and returns the n-th Fibonacci number."
   ]
  },
  {
   "cell_type": "code",
   "execution_count": 39,
   "metadata": {
    "collapsed": false,
    "jupyter": {
     "outputs_hidden": false
    },
    "pycharm": {
     "name": "#%%\n"
    }
   },
   "outputs": [
    {
     "name": "stdout",
     "output_type": "stream",
     "text": [
      "0\n",
      "1\n",
      "1\n",
      "2\n",
      "3\n",
      "5\n",
      "55\n"
     ]
    }
   ],
   "source": [
    "def fibonacci(n):\n",
    "    if n== 0:\n",
    "        return 0\n",
    "    elif n ==1:\n",
    "        return 1\n",
    "    else:\n",
    "        a, b = 0, 1  # Başlangıç değerleri\n",
    "        for _ in range(2, n + 1):  # 2'den n'e kadar döngü\n",
    "            a, b = b, a + b  # b'yi güncelle, a + b yeni b olur\n",
    "        return b  # n'inci Fibonacci sayısını döndür\n",
    "    \n",
    "\n",
    "# Fonksiyonu test etme\n",
    "print(fibonacci(0))  # Çıktı: 0\n",
    "print(fibonacci(1))  # Çıktı: 1\n",
    "print(fibonacci(2))  # Çıktı: 1\n",
    "print(fibonacci(3))  # Çıktı: 2\n",
    "print(fibonacci(4))  # Çıktı: 3\n",
    "print(fibonacci(5))  # Çıktı: 5\n",
    "print(fibonacci(10)) # Çıktı: 55\n"
   ]
  },
  {
   "cell_type": "markdown",
   "metadata": {
    "collapsed": false,
    "jupyter": {
     "outputs_hidden": false
    },
    "pycharm": {
     "name": "#%% md\n"
    }
   },
   "source": [
    "## Task 4: Sorting algorithm\n",
    "\n",
    "Write a Python function that sorts the elements of a vector in ascending order. You can use the selection sort algorithm:\n",
    "- find the smallest element in the vector and place it in the 1st position\n",
    "- search for the second smallest value in the remaining unsorted part of the vector and place it at position 2\n",
    "- ..."
   ]
  },
  {
   "cell_type": "code",
   "execution_count": 12,
   "metadata": {
    "collapsed": false,
    "jupyter": {
     "outputs_hidden": false
    },
    "pycharm": {
     "name": "#%%\n"
    }
   },
   "outputs": [
    {
     "name": "stdout",
     "output_type": "stream",
     "text": [
      "[1 2 7 6 3 5 4]\n",
      "7\n"
     ]
    }
   ],
   "source": [
    "import numpy as np\n",
    "a = np.array([1,2,7,6,3,5,4])\n",
    "print(a)\n",
    "b= len(a)\n",
    "for i range (b-1):\n",
    "    for j range (b-1-i):\n",
    "        if a[i]>a[j+1]:\n",
    "            a[j+1]=a[i]\n",
    "\n",
    "        else\n",
    "            \n",
    "\n"
   ]
  },
  {
   "cell_type": "code",
   "execution_count": null,
   "metadata": {
    "collapsed": false,
    "jupyter": {
     "outputs_hidden": false
    },
    "pycharm": {
     "name": "#%%\n"
    }
   },
   "outputs": [],
   "source": []
  },
  {
   "cell_type": "code",
   "execution_count": null,
   "metadata": {},
   "outputs": [],
   "source": []
  }
 ],
 "metadata": {
  "kernelspec": {
   "display_name": "Python 3 (ipykernel)",
   "language": "python",
   "name": "python3"
  },
  "language_info": {
   "codemirror_mode": {
    "name": "ipython",
    "version": 3
   },
   "file_extension": ".py",
   "mimetype": "text/x-python",
   "name": "python",
   "nbconvert_exporter": "python",
   "pygments_lexer": "ipython3",
   "version": "3.12.7"
  }
 },
 "nbformat": 4,
 "nbformat_minor": 4
}
